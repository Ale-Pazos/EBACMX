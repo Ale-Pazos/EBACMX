{
 "cells": [
  {
   "cell_type": "code",
   "execution_count": 34,
   "id": "4e785b9b",
   "metadata": {},
   "outputs": [
    {
     "name": "stdout",
     "output_type": "stream",
     "text": [
      "Ingrese el texto: El amor es una locura que ni el cura lo cura porque si el cura lo cura sería una locura del cura\n"
     ]
    }
   ],
   "source": [
    "#Texto ingresado por el usuario:\n",
    "\n",
    "texto=input(\"Ingrese el texto: \")\n"
   ]
  },
  {
   "cell_type": "code",
   "execution_count": 35,
   "id": "7b0814bd",
   "metadata": {},
   "outputs": [],
   "source": [
    "#generación de lista con .split\n",
    "\n",
    "lista_texto=texto.split()\n",
    "#print(lista_texto)"
   ]
  },
  {
   "cell_type": "code",
   "execution_count": 36,
   "id": "ebc74c56",
   "metadata": {},
   "outputs": [
    {
     "data": {
      "text/plain": [
       "{'El': 1,\n",
       " 'amor': 1,\n",
       " 'es': 1,\n",
       " 'una': 2,\n",
       " 'locura': 2,\n",
       " 'que': 1,\n",
       " 'ni': 1,\n",
       " 'el': 2,\n",
       " 'cura': 5,\n",
       " 'lo': 2,\n",
       " 'porque': 1,\n",
       " 'si': 1,\n",
       " 'sería': 1,\n",
       " 'del': 1}"
      ]
     },
     "execution_count": 36,
     "metadata": {},
     "output_type": "execute_result"
    }
   ],
   "source": [
    "# Generación de diccionario con conteo de palabras \n",
    "conteo=dict()\n",
    "\n",
    "for palabra in lista_texto:\n",
    "   if palabra not in conteo:\n",
    "        conteo[palabra]=1\n",
    "   else: \n",
    "        conteo[palabra]= conteo[palabra]+1\n",
    "conteo\n"
   ]
  },
  {
   "cell_type": "code",
   "execution_count": 37,
   "id": "4bfc049a",
   "metadata": {},
   "outputs": [],
   "source": [
    "#conversion de diccionario a tupla\n",
    "\n",
    "tupla=conteo.items()\n",
    "#tupla"
   ]
  },
  {
   "cell_type": "code",
   "execution_count": 38,
   "id": "37d1d48a",
   "metadata": {},
   "outputs": [
    {
     "name": "stdout",
     "output_type": "stream",
     "text": [
      "La palabra ' El ' se repite  1  instancia(s) \n" nomas,
      "La palabra ' amor ' se repite  1  instancia(s) \n",
      "La palabra ' es ' se repite  1  instancia(s) \n",
      "La palabra ' una ' se repite  2  instancia(s) \n",
      "La palabra ' locura ' se repite  2  instancia(s) \n",
      "La palabra ' que ' se repite  1  instancia(s) \n",
      "La palabra ' ni ' se repite  1  instancia(s) \n",
      "La palabra ' el ' se repite  2  instancia(s) \n",
      "La palabra ' cura ' se repite  5  instancia(s) \n",
      "La palabra ' lo ' se repite  2  instancia(s) \n",
      "La palabra ' porque ' se repite  1  instancia(s) \n",
      "La palabra ' si ' se repite  1  instancia(s) \n",
      "La palabra ' sería ' se repite  1  instancia(s) \n",
      "La palabra ' del ' se repite  1  instancia(s) \n"
     ]
    }
   ],
   "source": [
    "#Aplicación de un for para extraer la palabra con las veces que se repite en el texto ingresado:\n",
    "for x in tupla:\n",
    "    item, times=x\n",
    "    print(\"La palabra '\", item, \"' se repite \", times, \" instancia(s) \")"
   ]
  },
  {
   "cell_type": "code",
   "execution_count": null,
   "id": "11f1fa69",
   "metadata": {},
   "outputs": [],
   "source": []
  }
 ],
 "metadata": {
  "kernelspec": {
   "display_name": "Python 3 (ipykernel)",
   "language": "python",
   "name": "python3"
  },
  "language_info": {
   "codemirror_mode": {
    "name": "ipython",
    "version": 3
   },
   "file_extension": ".py",
   "mimetype": "text/x-python",
   "name": "python",
   "nbconvert_exporter": "python",
   "pygments_lexer": "ipython3",
   "version": "3.9.13"
  }
 },
 "nbformat": 4,
 "nbformat_minor": 5
}
