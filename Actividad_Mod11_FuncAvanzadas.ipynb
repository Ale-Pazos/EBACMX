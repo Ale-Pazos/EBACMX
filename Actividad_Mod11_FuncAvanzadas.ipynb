{
 "cells": [
  {
   "cell_type": "markdown",
   "metadata": {},
   "source": [
    "##  Función lambda para obtener la raíz cuadrada de un número."
   ]
  },
  {
   "cell_type": "code",
   "execution_count": 3,
   "metadata": {},
   "outputs": [
    {
     "data": {
      "text/plain": [
       "9"
      ]
     },
     "execution_count": 3,
     "metadata": {},
     "output_type": "execute_result"
    }
   ],
   "source": [
    "##Ejemplo Convencional\n",
    "def RCuad (x):\n",
    "    return x**2\n",
    "RCuad(3)"
   ]
  },
  {
   "cell_type": "code",
   "execution_count": 2,
   "metadata": {},
   "outputs": [
    {
     "data": {
      "text/plain": [
       "9"
      ]
     },
     "execution_count": 2,
     "metadata": {},
     "output_type": "execute_result"
    }
   ],
   "source": [
    "##Ejemplo con Función Lambda\n",
    "Sqrt=lambda x:x**2\n",
    "Sqrt(3)"
   ]
  },
  {
   "cell_type": "markdown",
   "metadata": {},
   "source": [
    "## Función map, para obtener el largo de una cadena de palabras. Tip! La cadena tiene que ser dividida en palabras antes de empezar."
   ]
  },
  {
   "cell_type": "code",
   "execution_count": 4,
   "metadata": {},
   "outputs": [
    {
     "name": "stdout",
     "output_type": "stream",
     "text": [
      "[2, 9, 2, 2, 6, 6, 1, 4, 6, 2, 2, 5]\n"
     ]
    }
   ],
   "source": [
    "#Ejemplo convencional sin usar 'map'\n",
    "\n",
    "quote='La felicidad es un estado mental y está dentro de ti mismo'\n",
    "lista= quote.split()\n",
    "len_lista=[]\n",
    "\n",
    "for word in lista:\n",
    "    len_lista.append(len(word))\n",
    "\n",
    "print(len_lista)"
   ]
  },
  {
   "cell_type": "code",
   "execution_count": 5,
   "metadata": {},
   "outputs": [
    {
     "name": "stdout",
     "output_type": "stream",
     "text": [
      "[2, 9, 2, 2, 6, 6, 1, 4, 6, 2, 2, 5]\n"
     ]
    }
   ],
   "source": [
    "#Ejemplo usando 'map'\n",
    "quote = 'La felicidad es un estado mental y está dentro de ti mismo'\n",
    "milista = quote.split()\n",
    "\n",
    "len_lista = list(map(len, milista))\n",
    "print(len_lista)"
   ]
  },
  {
   "cell_type": "markdown",
   "metadata": {},
   "source": [
    "## Función reduce, que sirva para calcular el producto de una lista"
   ]
  },
  {
   "cell_type": "code",
   "execution_count": 6,
   "metadata": {},
   "outputs": [
    {
     "data": {
      "text/plain": [
       "5184"
      ]
     },
     "execution_count": 6,
     "metadata": {},
     "output_type": "execute_result"
    }
   ],
   "source": [
    "#Forma convencional:\n",
    "lista_2=[4,6,3,9,8]\n",
    "total=1\n",
    "\n",
    "for num in lista_2:\n",
    "    total*=num\n",
    "total"
   ]
  },
  {
   "cell_type": "code",
   "execution_count": 7,
   "metadata": {},
   "outputs": [
    {
     "data": {
      "text/plain": [
       "5184"
      ]
     },
     "execution_count": 7,
     "metadata": {},
     "output_type": "execute_result"
    }
   ],
   "source": [
    "#Con Funcion reduce:\n",
    "from functools import reduce\n",
    "lista_2=[4,6,3,9,8]\n",
    "\n",
    "#Definicion de función:\n",
    "def multi (a,b):\n",
    "    return a*b\n",
    "\n",
    "reduce(multi,lista_2)"
   ]
  },
  {
   "cell_type": "code",
   "execution_count": 8,
   "metadata": {},
   "outputs": [
    {
     "data": {
      "text/plain": [
       "20736"
      ]
     },
     "execution_count": 8,
     "metadata": {},
     "output_type": "execute_result"
    }
   ],
   "source": [
    "#Con Funcion reduce e initializer:\n",
    "from functools import reduce\n",
    "lista_3=[4,6,3,9,8]\n",
    "\n",
    "#Definicion de función:\n",
    "def multi (a,b):\n",
    "    return a*b\n",
    "\n",
    "reduce(multi,lista_3,4)"
   ]
  },
  {
   "cell_type": "markdown",
   "metadata": {},
   "source": [
    "## Función filter que sirva para encontrar palabras que contengan mayúsculas o números en un listado"
   ]
  },
  {
   "cell_type": "code",
   "execution_count": 9,
   "metadata": {},
   "outputs": [
    {
     "name": "stdout",
     "output_type": "stream",
     "text": [
      "['Python', 100]\n"
     ]
    }
   ],
   "source": [
    "# De manera convencional sin Filter:\n",
    "\n",
    "listado=['Python', 'es', 'útil', 'para', 'programar', 100,\" %\"]\n",
    "\n",
    "def Special_words (listado):\n",
    "    words=[]\n",
    "    for word in listado:\n",
    "        mayus=any(c.isupper() for c in str(word)) #Identificación de mayusculas. Convierte a str antes de identificar. El resultado es un bool\n",
    "        number=any(c.isdigit() for c in str(word))#Identificación de número. Convierte a str antes de identificar. El resultado es un bool\n",
    "\n",
    "        if mayus or number:\n",
    "            words.append(word) #une a la lista las palabras que sean mayuscula o número\n",
    "    return words\n",
    "\n",
    "print(Special_words(listado))"
   ]
  },
  {
   "cell_type": "code",
   "execution_count": 1,
   "metadata": {},
   "outputs": [
    {
     "name": "stdout",
     "output_type": "stream",
     "text": [
      "['Python', 100]\n"
     ]
    }
   ],
   "source": [
    "# Usando Filter:\n",
    "\n",
    "listado=['Python', 'es', 'útil', 'para', 'programar', 100,\" %\"]\n",
    "\n",
    "def Spec_words (word):\n",
    "    mayus=any(c.isupper() for c in str(word)) #Identificación de mayusculas. Convierte a str antes de identificar. El resultado es un bool\n",
    "    number=any(c.isdigit() for c in str(word))#Identificación de número. Convierte a str antes de identificar. El resultado es un bool\n",
    "    return mayus==True or number==True\n",
    "print(list(filter(Spec_words, listado)))"
   ]
  },
  {
   "cell_type": "markdown",
   "metadata": {},
   "source": [
    "## Ejemplos adicionales para cada función estudiada "
   ]
  },
  {
   "cell_type": "code",
   "execution_count": 14,
   "metadata": {},
   "outputs": [
    {
     "name": "stdout",
     "output_type": "stream",
     "text": [
      "50\n",
      "50\n"
     ]
    }
   ],
   "source": [
    "# Función lambda con varios argumentos e IIFE. Cálculo de un número n a la potencia de x multiplicado por b:\n",
    "\n",
    "#Función convencional:\n",
    "def calc_num (n,x,b):\n",
    "    num=(n**x)*b\n",
    "    return num\n",
    "\n",
    "print(calc_num(5,2,2))\n",
    "\n",
    "#-------------------------------------------------------\n",
    "#Función lambda:\n",
    "num=(lambda n,x,b: (n**x)*b)(5,2,2)\n",
    "print(num)"
   ]
  },
  {
   "cell_type": "code",
   "execution_count": 19,
   "metadata": {},
   "outputs": [
    {
     "name": "stdout",
     "output_type": "stream",
     "text": [
      "[185, 699, 89]\n",
      "[185, 699, 89]\n"
     ]
    }
   ],
   "source": [
    "#Función map, dos iterables, usando lambda. El producto de a y b más c:\n",
    "\n",
    "# Iterables Listas:\n",
    "a=[15,8,9]\n",
    "b=[12,82,7]\n",
    "c=[5,43,26]\n",
    "\n",
    "#Convencional:\n",
    "def num (a,b,c):\n",
    "    num_calc=[]\n",
    "    for x,y,z in zip(a,b,c):\n",
    "        result= x*y+z\n",
    "        num_calc.append(result)\n",
    "    return num_calc\n",
    "print(num(a,b,c))\n",
    "\n",
    "#Usando Map y Lambda:\n",
    "\n",
    "numbers_calc=list(map(lambda a,b,c:a*b+c,a,b,c))\n",
    "print(numbers_calc)"
   ]
  },
  {
   "cell_type": "code",
   "execution_count": 24,
   "metadata": {},
   "outputs": [
    {
     "name": "stdout",
     "output_type": "stream",
     "text": [
      "[78, 92, 88, 75, 96, 82, 70, 90]\n",
      "la lista de aprobados es  [78, 92, 88, 75, 96, 82, 70, 90] son  8 alumnos\n"
     ]
    }
   ],
   "source": [
    "#Función filter. Ejemplo con lista de calificaciones de alumnos que aprobaron el exámen de Matemáticas. Los que obtuvieron más de 70 aprueban.\n",
    "\n",
    "calif=[78, 92, 65, 88, 75, 96, 54, 82, 70, 90]\n",
    "aprobado=70\n",
    "#Convencional:\n",
    "def aprueba (calificaciones):\n",
    "    aprobados=[]\n",
    "    for x in calificaciones:\n",
    "        if x >=70:\n",
    "            aprobados.append(x)\n",
    "    return aprobados\n",
    "\n",
    "print(aprueba(calif))\n",
    "\n",
    "#Usando filter:\n",
    "aprobados_F=list(filter(lambda x:x>=aprobado, calif))\n",
    "print(\"la lista de aprobados es \", aprobados_F, \"son \", len(aprobados_F), \"alumnos\") "
   ]
  },
  {
   "cell_type": "code",
   "execution_count": 32,
   "metadata": {},
   "outputs": [
    {
     "name": "stdout",
     "output_type": "stream",
     "text": [
      "132\n"
     ]
    },
    {
     "data": {
      "text/plain": [
       "132"
      ]
     },
     "execution_count": 32,
     "metadata": {},
     "output_type": "execute_result"
    }
   ],
   "source": [
    "#Reduce\n",
    "\n",
    "#Detectar los numeros divisibles entre 3 en una lista y sumarlos.\n",
    "\n",
    "#Convencional:\n",
    "lista_num=[50,25,36,96,23,85,34,28]\n",
    "\n",
    "def sum_div (lista):\n",
    "    sum=0\n",
    "    lista_div=[]\n",
    "    for i in lista:\n",
    "        if i%3==0:\n",
    "            sum+=i\n",
    "            lista_div.append(i)\n",
    "    return sum\n",
    "print(sum_div(lista_num))\n",
    "\n",
    "\n",
    "#Con reduce\n",
    "\n",
    "lista_div2=list(filter(lambda x:x%3==0, lista_num)) #Usando filter y lambda para filtrar los valores que son divisibles entre 3\n",
    "suma_div=reduce(lambda x, y:x+y, lista_div2) \n",
    "suma_div"
   ]
  }
 ],
 "metadata": {
  "kernelspec": {
   "display_name": "Python 3",
   "language": "python",
   "name": "python3"
  },
  "language_info": {
   "codemirror_mode": {
    "name": "ipython",
    "version": 3
   },
   "file_extension": ".py",
   "mimetype": "text/x-python",
   "name": "python",
   "nbconvert_exporter": "python",
   "pygments_lexer": "ipython3",
   "version": "3.11.2"
  },
  "orig_nbformat": 4
 },
 "nbformat": 4,
 "nbformat_minor": 2
}
