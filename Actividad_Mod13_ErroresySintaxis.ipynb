{
 "cells": [
  {
   "cell_type": "markdown",
   "metadata": {},
   "source": [
    " ## 1. Abrir un archivo que no existe:\n"
   ]
  },
  {
   "cell_type": "code",
   "execution_count": 12,
   "metadata": {},
   "outputs": [
    {
     "name": "stdout",
     "output_type": "stream",
     "text": [
      "El archivo 'test.txt' no fue encontrado en el directorio.\n",
      "Ha terminado el proceso\n"
     ]
    }
   ],
   "source": [
    "# A) Con una función CATCH\n",
    "\n",
    "def find_file():\n",
    "    try:\n",
    "        with open(\"test.txt\",\"r\") as file:\n",
    "            content=file.read()\n",
    "    except FileNotFoundError:\n",
    "        print(\"El archivo 'test.txt' no fue encontrado en el directorio.\")\n",
    "    except Exception as e:\n",
    "        print(\"Ocurrió un error\")\n",
    "    else:\n",
    "        print(\"El archivo se abrió de forma correcta\")\n",
    "    finally:\n",
    "        print(\"Ha terminado el proceso\" )\n",
    "\n",
    "#Llamando a la función para buscar el archivo:\n",
    "find_file()"
   ]
  },
  {
   "cell_type": "code",
   "execution_count": 14,
   "metadata": {},
   "outputs": [
    {
     "name": "stdout",
     "output_type": "stream",
     "text": [
      "El archivo 'test.txt' no fue encontrado en el directorio.\n"
     ]
    }
   ],
   "source": [
    "#B) Excepciones y las funciones TRY/EXCEPT\n",
    "\n",
    "try:\n",
    "    with open(\"test.txt\",\"r\") as file:\n",
    "        content=file.read()\n",
    "    print(\"El archivo 'test.txt' se encontró en el directorio\")\n",
    "\n",
    "except FileNotFoundError:\n",
    "        print(\"El archivo 'test.txt' no fue encontrado en el directorio.\")\n",
    "except Exception as e:\n",
    "        print(\"Ocurrió un error\")"
   ]
  },
  {
   "cell_type": "code",
   "execution_count": 15,
   "metadata": {},
   "outputs": [
    {
     "name": "stdout",
     "output_type": "stream",
     "text": [
      "El archivo 'test.txt' no fue encontrado en el directorio.\n",
      "Ha terminado el proceso\n"
     ]
    }
   ],
   "source": [
    "#C) Excepciones y las funciones TRY/EXCEPT/else/finally\n",
    "\n",
    "try:\n",
    "    with open(\"test.txt\",\"r\") as file:\n",
    "        content=file.read()\n",
    "    print(\"El archivo 'test.txt' se encontró en el directorio\")\n",
    "\n",
    "except FileNotFoundError:\n",
    "    print(\"El archivo 'test.txt' no fue encontrado en el directorio.\")\n",
    "except Exception as e:\n",
    "    print(\"Ocurrió un error\")\n",
    "else:\n",
    "    print(\"El archivo se abrió de forma correcta\")\n",
    "finally:\n",
    "    print(\"Ha terminado el proceso\")"
   ]
  },
  {
   "cell_type": "markdown",
   "metadata": {},
   "source": [
    "## Debugging "
   ]
  },
  {
   "cell_type": "code",
   "execution_count": 5,
   "metadata": {},
   "outputs": [
    {
     "ename": "ZeroDivisionError",
     "evalue": "division by zero",
     "output_type": "error",
     "traceback": [
      "\u001b[1;31m---------------------------------------------------------------------------\u001b[0m",
      "\u001b[1;31mZeroDivisionError\u001b[0m                         Traceback (most recent call last)",
      "Cell \u001b[1;32mIn[5], line 7\u001b[0m\n\u001b[0;32m      4\u001b[0m     \u001b[39mreturn\u001b[39;00m resultado\n\u001b[0;32m      6\u001b[0m \u001b[39m#Ejecutando la función\u001b[39;00m\n\u001b[1;32m----> 7\u001b[0m result \u001b[39m=\u001b[39m sum_dev(\u001b[39m3\u001b[39;49m,\u001b[39m15\u001b[39;49m,\u001b[39m22\u001b[39;49m,\u001b[39m33\u001b[39;49m)\n\u001b[0;32m      8\u001b[0m \u001b[39mprint\u001b[39m(result)\n",
      "Cell \u001b[1;32mIn[5], line 3\u001b[0m, in \u001b[0;36msum_dev\u001b[1;34m(a, b, c, d)\u001b[0m\n\u001b[0;32m      1\u001b[0m \u001b[39mdef\u001b[39;00m \u001b[39msum_dev\u001b[39m(a,b,c,d):\n\u001b[0;32m      2\u001b[0m     suma\u001b[39m=\u001b[39ma\u001b[39m+\u001b[39mb\u001b[39m+\u001b[39mc\u001b[39m+\u001b[39md\n\u001b[1;32m----> 3\u001b[0m     resultado\u001b[39m=\u001b[39msuma\u001b[39m/\u001b[39;49m\u001b[39m0\u001b[39;49m\n\u001b[0;32m      4\u001b[0m     \u001b[39mreturn\u001b[39;00m resultado\n",
      "\u001b[1;31mZeroDivisionError\u001b[0m: division by zero"
     ]
    },
    {
     "name": "stdout",
     "output_type": "stream",
     "text": [
      "> \u001b[1;32mc:\\users\\acamacho\\appdata\\local\\temp\\ipykernel_45332\\2821715030.py\u001b[0m(3)\u001b[0;36msum_dev\u001b[1;34m()\u001b[0m\n",
      "\u001b[1;32m      1 \u001b[1;33m\u001b[1;32mdef\u001b[0m \u001b[0msum_dev\u001b[0m\u001b[1;33m(\u001b[0m\u001b[0ma\u001b[0m\u001b[1;33m,\u001b[0m\u001b[0mb\u001b[0m\u001b[1;33m,\u001b[0m\u001b[0mc\u001b[0m\u001b[1;33m,\u001b[0m\u001b[0md\u001b[0m\u001b[1;33m)\u001b[0m\u001b[1;33m:\u001b[0m\u001b[1;33m\u001b[0m\u001b[1;33m\u001b[0m\u001b[0m\n",
      "\u001b[0m\u001b[1;32m      2 \u001b[1;33m    \u001b[0msuma\u001b[0m\u001b[1;33m=\u001b[0m\u001b[0ma\u001b[0m\u001b[1;33m+\u001b[0m\u001b[0mb\u001b[0m\u001b[1;33m+\u001b[0m\u001b[0mc\u001b[0m\u001b[1;33m+\u001b[0m\u001b[0md\u001b[0m\u001b[1;33m\u001b[0m\u001b[1;33m\u001b[0m\u001b[0m\n",
      "\u001b[0m\u001b[1;32m----> 3 \u001b[1;33m    \u001b[0mresultado\u001b[0m\u001b[1;33m=\u001b[0m\u001b[0msuma\u001b[0m\u001b[1;33m/\u001b[0m\u001b[1;36m0\u001b[0m\u001b[1;33m\u001b[0m\u001b[1;33m\u001b[0m\u001b[0m\n",
      "\u001b[0m\u001b[1;32m      4 \u001b[1;33m    \u001b[1;32mreturn\u001b[0m \u001b[0mresultado\u001b[0m\u001b[1;33m\u001b[0m\u001b[1;33m\u001b[0m\u001b[0m\n",
      "\u001b[0m\u001b[1;32m      5 \u001b[1;33m\u001b[1;33m\u001b[0m\u001b[0m\n",
      "\u001b[0m\n"
     ]
    },
    {
     "name": "stdout",
     "output_type": "stream",
     "text": [
      "*** NameError: name 'ipdb' is not defined\n",
      "*** NameError: name 'ipdb' is not defined\n",
      "--KeyboardInterrupt--\n",
      "\n",
      "KeyboardInterrupt: Interrupted by user\n"
     ]
    }
   ],
   "source": [
    "def sum_dev(a,b,c,d):\n",
    "    suma=a+b+c+d\n",
    "    resultado=suma/0\n",
    "    return resultado\n",
    "\n",
    "#Ejecutando la función\n",
    "result = sum_dev(3,15,22,33)\n",
    "print(result)\n"
   ]
  },
  {
   "cell_type": "code",
   "execution_count": 7,
   "metadata": {},
   "outputs": [
    {
     "name": "stdout",
     "output_type": "stream",
     "text": [
      "División para cero!\n"
     ]
    },
    {
     "data": {
      "text/plain": [
       "(None,)"
      ]
     },
     "execution_count": 7,
     "metadata": {},
     "output_type": "execute_result"
    }
   ],
   "source": [
    "def sum_Div(a,b,c,d):\n",
    "    try:\n",
    "        resultado=(a+b+c+d)/0\n",
    "        print(\"Respuesta: \", resultado)\n",
    "    except ZeroDivisionError:\n",
    "        print(\"División para cero!\")\n",
    "\n",
    "#Ejecutando la función\n",
    "sum_Div(2,3,6,9),"
   ]
  },
  {
   "cell_type": "code",
   "execution_count": null,
   "metadata": {},
   "outputs": [
    {
     "name": "stdout",
     "output_type": "stream",
     "text": [
      "Automatic pdb calling has been turned ON\n"
     ]
    }
   ],
   "source": [
    "\n",
    "#Activando modo depuración\n",
    "%pdb on "
   ]
  }
 ],
 "metadata": {
  "kernelspec": {
   "display_name": "Python 3",
   "language": "python",
   "name": "python3"
  },
  "language_info": {
   "codemirror_mode": {
    "name": "ipython",
    "version": 3
   },
   "file_extension": ".py",
   "mimetype": "text/x-python",
   "name": "python",
   "nbconvert_exporter": "python",
   "pygments_lexer": "ipython3",
   "version": "3.11.2"
  },
  "orig_nbformat": 4
 },
 "nbformat": 4,
 "nbformat_minor": 2
}
