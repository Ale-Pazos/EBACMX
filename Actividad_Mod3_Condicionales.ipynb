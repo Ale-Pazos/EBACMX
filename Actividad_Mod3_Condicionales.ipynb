{
 "cells": [
  {
   "cell_type": "code",
   "execution_count": 40,
   "id": "62c566bf",
   "metadata": {},
   "outputs": [
    {
     "name": "stdout",
     "output_type": "stream",
     "text": [
      "Ingrese el numero de horas laboradas: 65\n",
      "Ahora ingrese la tarifa de pago por hora:15\n"
     ]
    }
   ],
   "source": [
    "#Ingreso del usuario de las horas laboradas y la tarifa por hora del colaborador. \n",
    "#Se les hace una transformación a float, ya que el input las ingresa como cadena de texto\n",
    "\n",
    "horas=float(input(\"Ingrese el numero de horas laboradas: \"))\n",
    "tarifa=float(input(\"Ahora ingrese la tarifa de pago por hora:\"))"
   ]
  },
  {
   "cell_type": "code",
   "execution_count": 41,
   "id": "0107e5e8",
   "metadata": {},
   "outputs": [
    {
     "name": "stdout",
     "output_type": "stream",
     "text": [
      "El pago semanal del colaborador es 1035.0\n"
     ]
    }
   ],
   "source": [
    "#Prueba para determinar si los parámetros son válidos:\n",
    "try:\n",
    "    horas>=0\n",
    "    tarifa>=0\n",
    "except:\n",
    "    horas<=0\n",
    "    tarifa<=0\n",
    "    \n",
    "#En caso de que sean válidos, que calcule la paga del colaborador:\n",
    "\n",
    "if horas>=0 and tarifa>=0:\n",
    "    if horas<=40:\n",
    "        paga=horas*tarifa\n",
    "        print(\"El pago semanal del colaborador es\", paga)\n",
    "    elif horas>40 and horas<=50:\n",
    "        diferencia=horas-40\n",
    "        paga=40*tarifa+diferencia*1.1*tarifa\n",
    "        print(\"El pago semanal del colaborador es\", paga)\n",
    "    elif horas>50:\n",
    "        diferencia=horas-50\n",
    "        paga=40*tarifa+10*tarifa*1.1+diferencia*tarifa*1.2\n",
    "        print(\"El pago semanal del colaborador es\", paga)\n",
    "\n",
    "#En caso de que sean incorrectos, que imprima que hay error:\n",
    "else:\n",
    "    print(\"Parámetros incorrectos.\")\n",
    "        \n",
    "\n",
    "\n",
    "    \n"
   ]
  },
  {
   "cell_type": "code",
   "execution_count": null,
   "id": "4dc86186",
   "metadata": {},
   "outputs": [],
   "source": []
  }
 ],
 "metadata": {
  "kernelspec": {
   "display_name": "Python 3 (ipykernel)",
   "language": "python",
   "name": "python3"
  },
  "language_info": {
   "codemirror_mode": {
    "name": "ipython",
    "version": 3
   },
   "file_extension": ".py",
   "mimetype": "text/x-python",
   "name": "python",
   "nbconvert_exporter": "python",
   "pygments_lexer": "ipython3",
   "version": "3.9.13"
  }
 },
 "nbformat": 4,
 "nbformat_minor": 5
}
