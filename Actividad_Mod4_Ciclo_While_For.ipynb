{
 "cells": [
  {
   "cell_type": "markdown",
   "id": "37a33bab",
   "metadata": {},
   "source": [
    "## Ejercicio 1-Potencia de un número"
   ]
  },
  {
   "cell_type": "code",
   "execution_count": 23,
   "id": "6c1e4e56",
   "metadata": {},
   "outputs": [
    {
     "name": "stdout",
     "output_type": "stream",
     "text": [
      "ingrese algún número: 40\n",
      "Si n= 40 no puede ser expresado como 2^k= 40\n"
     ]
    }
   ],
   "source": [
    "#número proporcionado por el usuario:\n",
    "n=int(input(\"ingrese algún número: \"))\n",
    "\n",
    "#poniendo numeros iniciales para el exponente de 2 desde 2^0\n",
    "\n",
    "k=0\n",
    "potencia= 2**k\n",
    "\n",
    "while potencia<=n:\n",
    "    if potencia==n:# en cada iteración se compara si la potencia calculada es igual al número que el usuario ingresó\n",
    "        print (\"Si n=\",n,\"puede ser expresado como 2^\",k,'=',n) #Si es así se imprime la leyenda de que si puede ser expresado\n",
    "        break\n",
    "    k+=1 #se agrega +1 a k para la sig iteración\n",
    "    potencia=2**k #actualizacion del cálculo de la potencia\n",
    "    #Si el ciclo while se completa sin encontrar coincidencia se escribe la leyenda de que no puede ser expresado.\n",
    "else:\n",
    "    print(\"Si n=\",n, \"no puede ser expresado como 2^k=\",n)\n",
    "    \n",
    "   \n"
   ]
  },
  {
   "cell_type": "markdown",
   "id": "371920de",
   "metadata": {},
   "source": [
    "## Ejercicio 2- Factorial de un número"
   ]
  },
  {
   "cell_type": "code",
   "execution_count": 110,
   "id": "a3a8f4f6",
   "metadata": {},
   "outputs": [
    {
     "name": "stdout",
     "output_type": "stream",
     "text": [
      "ingrese algún número: 7.5\n",
      "Error de captura\n"
     ]
    }
   ],
   "source": [
    "#número proporcionado por el usuario:\n",
    "n=float(input(\"ingrese algún número: \"))\n",
    "\n",
    "while n>=0 and n%1==0: #Mediante el while restringimos valores negativos o fraccionados\n",
    "    limit=int(n+1) #valor de limite superior para el rango en el ciclo for.\n",
    "    factorial=1 #Valor inicial del factorial\n",
    "    for i in range(1,limit):\n",
    "        factorial=factorial*i  #multiplicación del factorial por cada elemento del rango    \n",
    "    print(\"El factorial de\", int(n), \"es\", factorial) #se imprime el valor final \n",
    "    break\n",
    "\n",
    "else: #En caso de tirar un valor no válido\n",
    "    print(\"Error de captura\")\n",
    "\n",
    "    \n"
   ]
  },
  {
   "cell_type": "code",
   "execution_count": null,
   "id": "c9841142",
   "metadata": {},
   "outputs": [],
   "source": []
  }
 ],
 "metadata": {
  "kernelspec": {
   "display_name": "Python 3 (ipykernel)",
   "language": "python",
   "name": "python3"
  },
  "language_info": {
   "codemirror_mode": {
    "name": "ipython",
    "version": 3
   },
   "file_extension": ".py",
   "mimetype": "text/x-python",
   "name": "python",
   "nbconvert_exporter": "python",
   "pygments_lexer": "ipython3",
   "version": "3.9.13"
  }
 },
 "nbformat": 4,
 "nbformat_minor": 5
}
