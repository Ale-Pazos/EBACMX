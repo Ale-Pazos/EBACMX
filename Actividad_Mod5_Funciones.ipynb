{
 "cells": [
  {
   "cell_type": "code",
   "execution_count": 19,
   "id": "18d585ad",
   "metadata": {},
   "outputs": [
    {
     "data": {
      "text/plain": [
       "'cba321'"
      ]
     },
     "execution_count": 19,
     "metadata": {},
     "output_type": "execute_result"
    }
   ],
   "source": [
    "def invierte_cadena(cadena):\n",
    "    if len(cadena)==0: #verificación de que la cadena esté vacía, si es así devuelve la cadena vacía como tal\n",
    "        return cadena\n",
    "    else:\n",
    "        return invierte_cadena(cadena[1:]) + cadena[0] #aqui se usa la recursividad o invocación de la misma función \n",
    "                                                       #en lugar de usar ciclos, la función se llama así misma.\n",
    "        #se excluye el primer caracter de la cadena y se concatena con el primero. Por ejemplo, si se pone la cadena \"hola\":\n",
    "        \n",
    "     #   1. hola--> ola +h \n",
    "     #   2. ola+h---la+oh\n",
    "    #    3.la+oh--->a+loh\n",
    "    #    4.-->aloh\n",
    "#invocando a la funcion recursiva:\n",
    "\n",
    "invierte_cadena(\"123abc\") "
   ]
  },
  {
   "cell_type": "code",
   "execution_count": 22,
   "id": "9e3e72b5",
   "metadata": {},
   "outputs": [
    {
     "data": {
      "text/plain": [
       "True"
      ]
     },
     "execution_count": 22,
     "metadata": {},
     "output_type": "execute_result"
    }
   ],
   "source": [
    "def prueba_primo(n):\n",
    "    if n<=1: #un numero menor o igual a 1 no puede ser primo\n",
    "        return False \n",
    "    elif n<=3: #el numero 2 y 3 son primos\n",
    "        return True\n",
    "    elif n%2==0 or n%3==0: #si el numero es divisible entre 2 o 3 no puede ser primo\n",
    "        return False\n",
    "    else:\n",
    "        \n",
    "    #basandonos en el comportamiento de los numeros primos de que 6k +-1, k es un numero entero y hay que comprobar\n",
    "    #la divisibilidad entre 6k +-1.\n",
    "    \n",
    "        i=5 #como despues del 3, el sig numero primo es el 5\n",
    "        \n",
    "        while i*i<=n:\n",
    "            if n%i==0 or n%(i+2)==0: #si el numero n es divisible entre i o i+2 no es primo \n",
    "                return False\n",
    "            i+=6 # incrementos de 6 por cada iteración\n",
    "        return True \n",
    "\n",
    "#invocando a la función:\n",
    "\n",
    "prueba_primo(7)\n",
    "    \n",
    "        "
   ]
  },
  {
   "cell_type": "code",
   "execution_count": null,
   "id": "4a132813",
   "metadata": {},
   "outputs": [],
   "source": []
  }
 ],
 "metadata": {
  "kernelspec": {
   "display_name": "Python 3 (ipykernel)",
   "language": "python",
   "name": "python3"
  },
  "language_info": {
   "codemirror_mode": {
    "name": "ipython",
    "version": 3
   },
   "file_extension": ".py",
   "mimetype": "text/x-python",
   "name": "python",
   "nbconvert_exporter": "python",
   "pygments_lexer": "ipython3",
   "version": "3.9.13"
  }
 },
 "nbformat": 4,
 "nbformat_minor": 5
}
