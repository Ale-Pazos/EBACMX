{
 "cells": [
  {
   "cell_type": "markdown",
   "id": "895495e7",
   "metadata": {},
   "source": [
    "## Ejercicio de programación orientada a objetos"
   ]
  },
  {
   "cell_type": "code",
   "execution_count": 5,
   "id": "313cfe89",
   "metadata": {},
   "outputs": [],
   "source": [
    "\n",
    "#prueba nomás con la función principal sola\n",
    "\n",
    "def conversion(romano):\n",
    "    #Diccionario sugerido por el instructor\n",
    "    valores={'I':1, 'V':5, 'X':10, 'L':50, 'C':100, 'D':500, 'M':1000} #Diccionario que mapea cada letra del num romano a su valor decimal\n",
    "    decimal=0\n",
    "    prev_valor=0\n",
    "    \n",
    "    for letra in romano[::-1]: #recorre la cadena del num romano desde el final al inicio\n",
    "        valor=valores[letra]\n",
    "        \n",
    "        if valor<prev_valor: #si el valor de la letra es menor que el valor anterior se resta el valor y se devuelve el decimal\n",
    "            decimal-=valor\n",
    "        else:\n",
    "            decimal+=valor#si el valor de la letra es mayor que el valor anterior se suma el valor y se devuelve el decimal\n",
    "        prev_valor=valor\n",
    "    return decimal\n",
    "            \n",
    "\n",
    "            \n",
    "        "
   ]
  },
  {
   "cell_type": "code",
   "execution_count": 6,
   "id": "a6aeb20e",
   "metadata": {},
   "outputs": [
    {
     "name": "stdout",
     "output_type": "stream",
     "text": [
      "154\n"
     ]
    }
   ],
   "source": [
    "print(conversion(\"CLIV\"))"
   ]
  },
  {
   "cell_type": "markdown",
   "id": "49c36e6b",
   "metadata": {},
   "source": [
    "## Ejercicio de programación orientada a objetos\n",
    "\n",
    "# Conversión de números romanos a decimales"
   ]
  },
  {
   "cell_type": "code",
   "execution_count": 36,
   "id": "ed8a2f76",
   "metadata": {},
   "outputs": [
    {
     "name": "stdout",
     "output_type": "stream",
     "text": [
      "Ingresa un numero romano: MDXCII\n",
      "El número decimal correspondiente es:  1592\n"
     ]
    }
   ],
   "source": [
    "class numeroromano(object):\n",
    "    def __init__(self, numero):\n",
    "        self.numero=numero\n",
    "        \n",
    "class conversion(numeroromano):\n",
    "    def romano_entero(self):\n",
    "         #Diccionario sugerido por el instructor\n",
    "        valores={'I':1, 'V':5, 'X':10, 'L':50, 'C':100, 'D':500, 'M':1000} #Diccionario que mapea cada letra del num romano \n",
    "        decimal=0\n",
    "        prev_valor=0\n",
    "    \n",
    "        for letra in self.numero[::-1]: #recorre la cadena del num romano desde el final al inicio\n",
    "            valor=valores[letra]\n",
    "        \n",
    "            if valor<prev_valor: #si el valor de la letra es menor que el valor anterior se resta el valor y se devuelve el decimal\n",
    "                decimal-=valor\n",
    "            else:\n",
    "                decimal+=valor#si el valor de la letra es mayor que el valor anterior se suma el valor y se devuelve el decimal\n",
    "            prev_valor=valor\n",
    "        return decimal\n",
    "        print(\"El numero decimal correspondiente es: \", decimal)\n",
    "\n",
    "#invocando a la clase\n",
    "\n",
    "numero=conversion(input(\"Ingresa un numero romano: \").upper()) #El usuario ingresa el valor y siempre se pondrá en mayúsculas automáticamente para que coincida con el valor del diccionario\n",
    "romano=numero.romano_entero()\n",
    "print(\"El número decimal correspondiente es: \", romano)\n",
    "            \n"
   ]
  },
  {
   "cell_type": "code",
   "execution_count": null,
   "id": "193397d1",
   "metadata": {},
   "outputs": [],
   "source": []
  }
 ],
 "metadata": {
  "kernelspec": {
   "display_name": "Python 3 (ipykernel)",
   "language": "python",
   "name": "python3"
  },
  "language_info": {
   "codemirror_mode": {
    "name": "ipython",
    "version": 3
   },
   "file_extension": ".py",
   "mimetype": "text/x-python",
   "name": "python",
   "nbconvert_exporter": "python",
   "pygments_lexer": "ipython3",
   "version": "3.9.13"
  }
 },
 "nbformat": 4,
 "nbformat_minor": 5
}
