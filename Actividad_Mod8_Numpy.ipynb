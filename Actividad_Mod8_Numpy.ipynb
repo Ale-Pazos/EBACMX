{
 "cells": [
  {
   "cell_type": "markdown",
   "id": "0ccc2986",
   "metadata": {},
   "source": [
    "## Ejercicio 1"
   ]
  },
  {
   "cell_type": "code",
   "execution_count": 12,
   "id": "76bfbfc7",
   "metadata": {},
   "outputs": [
    {
     "data": {
      "text/plain": [
       "array([12, 13, 14, 15, 16, 17, 18, 19, 20])"
      ]
     },
     "execution_count": 12,
     "metadata": {},
     "output_type": "execute_result"
    }
   ],
   "source": [
    "import numpy as np\n",
    "x=np.arange(21)[12:]\n",
    "x"
   ]
  },
  {
   "cell_type": "code",
   "execution_count": 16,
   "id": "6a2ab592",
   "metadata": {},
   "outputs": [
    {
     "data": {
      "text/plain": [
       "array([20, 19, 18, 17, 16, 15, 14, 13, 12])"
      ]
     },
     "execution_count": 16,
     "metadata": {},
     "output_type": "execute_result"
    }
   ],
   "source": [
    "#1ra manera de invertir el arreglo\n",
    "x_rev=np.flip(x)\n",
    "x_rev"
   ]
  },
  {
   "cell_type": "code",
   "execution_count": 17,
   "id": "a6606843",
   "metadata": {},
   "outputs": [
    {
     "data": {
      "text/plain": [
       "array([20, 19, 18, 17, 16, 15, 14, 13, 12])"
      ]
     },
     "execution_count": 17,
     "metadata": {},
     "output_type": "execute_result"
    }
   ],
   "source": [
    "#2da manera de invertir el arreglo\n",
    "x_rev2=x[::-1]#Para que vaya de 1 en 1 pero de derecha a izquierda.\n",
    "x_rev2"
   ]
  },
  {
   "cell_type": "markdown",
   "id": "3c81bdd8",
   "metadata": {},
   "source": [
    "## Ejercicio 2"
   ]
  },
  {
   "cell_type": "code",
   "execution_count": 30,
   "id": "57db77b7",
   "metadata": {},
   "outputs": [
    {
     "data": {
      "text/plain": [
       "array([ 0.  , 12.  , 45.21, 34.  , 99.91, 32.  ])"
      ]
     },
     "execution_count": 30,
     "metadata": {},
     "output_type": "execute_result"
    }
   ],
   "source": [
    "#Array de valores en Farenheith\n",
    "\n",
    "TempF=np.array([0,12,45.21,34,99.91,32])\n",
    "TempF"
   ]
  },
  {
   "cell_type": "code",
   "execution_count": 37,
   "id": "540b996b",
   "metadata": {},
   "outputs": [
    {
     "name": "stdout",
     "output_type": "stream",
     "text": [
      "[-17.78 -11.11   7.34   1.11  37.73   0.  ]\n"
     ]
    }
   ],
   "source": [
    "TempC=(TempF-32)/1.8 #Conversion a F\n",
    "TempC_R=np.round(Temp_C, decimals=2) #Redondear valores del array\n",
    "print(TempC_R)"
   ]
  },
  {
   "cell_type": "markdown",
   "id": "07db77e2",
   "metadata": {},
   "source": [
    "## Ejercicio 3"
   ]
  },
  {
   "cell_type": "code",
   "execution_count": 42,
   "id": "812eb5e7",
   "metadata": {},
   "outputs": [
    {
     "data": {
      "text/plain": [
       "array([ 0, 10, 20, 30])"
      ]
     },
     "execution_count": 42,
     "metadata": {},
     "output_type": "execute_result"
    }
   ],
   "source": [
    "array_in=np.concatenate(([0,10,20],[20,10,30]))\n",
    "\n",
    "#se puede usar el metodo unique para eliminar valores repetidos en el array:\n",
    "array_out=np.unique(array_in)\n",
    "array_out"
   ]
  }
 ],
 "metadata": {
  "kernelspec": {
   "display_name": "Python 3 (ipykernel)",
   "language": "python",
   "name": "python3"
  },
  "language_info": {
   "codemirror_mode": {
    "name": "ipython",
    "version": 3
   },
   "file_extension": ".py",
   "mimetype": "text/x-python",
   "name": "python",
   "nbconvert_exporter": "python",
   "pygments_lexer": "ipython3",
   "version": "3.9.13"
  }
 },
 "nbformat": 4,
 "nbformat_minor": 5
}
